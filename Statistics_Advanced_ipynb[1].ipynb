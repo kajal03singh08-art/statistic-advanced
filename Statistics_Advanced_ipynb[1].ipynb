{
  "cells": [
    {
      "cell_type": "markdown",
      "metadata": {
        "id": "bip8_lNvm3Hf"
      },
      "source": [
        "Statistics Advanced - 1| Assignment"
      ]
    },
    {
      "cell_type": "markdown",
      "metadata": {
        "id": "xUglLpmAm-G4"
      },
      "source": [
        "Q- 1 What is a random variable in probability theory?\n",
        "\n",
        "   ANS-- In probability theory, a random variable is a variable that represents the possible outcomes of a random experiment in numerical form.\n",
        "\n",
        "\n",
        "   TYPES OF RANDOM VARUABLE:\n",
        "\n",
        "    1. Discrete Random Variable:\n",
        "       \n",
        "       * Takes on countable values (finite or countably infinite).\n",
        "\n",
        "       * Example: Number of heads in 3 coin flips (values: 0, 1, 2, 3).\n",
        "\n",
        "    2. Continuous Random Variable:\n",
        "\n",
        "       * Takes on uncountably infinite values, typically in an interval.\n",
        "\n",
        "       * Example: The time it takes to run a mile (values could be any real number > 0).\n",
        "\n",
        "\n",
        "    "
      ]
    },
    {
      "cell_type": "markdown",
      "metadata": {
        "id": "295ESlUQoTsd"
      },
      "source": [
        "Q- 2 What are the types of random variables?\n",
        "\n",
        "  ANS-- Random variables are primarily classified into two main types, based on the nature of their possible values:\n",
        "\n",
        "\n",
        "  1. Discrete Random Variables\n",
        "   \n",
        "   A discrete random variable takes on countable values — either finite or countably infinite.\n",
        "\n",
        "\n",
        "   Characteristics:\n",
        "\n",
        "   * Values are separate and distinct (no in-betweens).\n",
        "\n",
        "   * Usually come from counting something.\n",
        "\n",
        "   * Have a probability mass function (PMF).\n",
        "\n",
        "Examples:\n",
        "\n",
        "   *Number of heads in 3 coin flips:\n",
        "𝑋\n",
        "∈\n",
        "{\n",
        "0\n",
        ",\n",
        "1\n",
        ",\n",
        "2\n",
        ",\n",
        "3\n",
        "}\n",
        "X∈{0,1,2,3}\n",
        "\n",
        "* Number of customers in a queue\n",
        "\n",
        "* Rolling a die:\n",
        "𝑋\n",
        "∈\n",
        "{\n",
        "1\n",
        ",\n",
        "2\n",
        ",\n",
        "3\n",
        ",\n",
        "4\n",
        ",\n",
        "5\n",
        ",\n",
        "6\n",
        "}\n",
        "X∈{1,2,3,4,5,6}\n",
        "\n",
        "2. Continuous Random Variables\n",
        "\n",
        "   A continuous random variable takes on uncountably infinite values, typically any value in an interval of real numbers.\n",
        "\n",
        "  Characteristics:\n",
        "\n",
        "  * Values are on a continuous scale — infinitely many possibilities.\n",
        "\n",
        "  *  Usually come from measuring something.\n",
        "\n",
        "  * Have a probability density function (PDF).\n",
        "\n",
        "  * The probability of taking on any specific value is 0, but ranges have positive probability.\n",
        "\n",
        "\n",
        "EXAMPLE:\n",
        "  \n",
        "  * Time it takes to finish a race:\n",
        "𝑋\n",
        "∈\n",
        "[\n",
        "0\n",
        ",\n",
        "∞\n",
        ")\n",
        "X∈[0,∞)\n",
        "\n",
        "* Height of a person\n",
        "\n",
        "* Temperature on a given day\n",
        "\n"
      ]
    },
    {
      "cell_type": "markdown",
      "metadata": {
        "id": "zUsGJftZqCnY"
      },
      "source": [
        "Q- 3 Explain the difference between discrete and continuous distributions.\n",
        "\n",
        "  ANS--  The difference between discrete and continuous distributions lies in the type of values the random variables can take and how probabilities are assigned to those values.\n",
        "\n",
        "  \n",
        "\n",
        "| Feature                | Discrete Distribution           | Continuous Distribution                        |\n",
        "| ---------------------- | ------------------------------- | ---------------------------------------------- |\n",
        "| Values                 | Countable (e.g., 0, 1, 2, ...)  | Uncountable (e.g., any real number in a range) |\n",
        "| Probability of a value | ( P(X = x) > 0 ) possible       | ( P(X = x) = 0 ) always                        |\n",
        "| Function used          | PMF (Probability Mass Function) | PDF (Probability Density Function)             |\n",
        "| Total Probability      | ( \\sum P(X = x) = 1 )           | ( \\int f(x)dx = 1 )                            |\n",
        "| Example                | Number of students in a class   | Height of students                             |\n"
      ]
    },
    {
      "cell_type": "markdown",
      "metadata": {
        "id": "ONb-kWW1qtFS"
      },
      "source": [
        "Q- 4  What is a binomial distribution, and how is it used in probability?\n",
        "\n",
        "  ANS-- The binomial distribution is a discrete probability distribution that models the number of successes in a fixed number of independent trials of a binary (yes/no) experiment.\n",
        "\n",
        " Key Features of a Binomial Experiment:\n",
        "\n",
        "  1. Fixed number of trials (n)\n",
        "\n",
        "  2. Each trial has only two outcomes: success or failure\n",
        "\n",
        "  3. The probability of success (P) is the same for each trial\n",
        "\n",
        "  4. Trials are independent of each other"
      ]
    },
    {
      "cell_type": "markdown",
      "metadata": {
        "id": "W4vqT7AXsN_c"
      },
      "source": [
        "Q- 5  What is the standard normal distribution, and why is it important?\n",
        "\n",
        "  ANS-- The standard normal distribution is a special case of the normal distribution, which is one of the most important probability distributions in statistics and probability theory.\n",
        "\n",
        "  Why is the Standard Normal Distribution Important:\n",
        "\n",
        "    1. It’s a Basis for All Normal Distributions\n",
        "\n",
        "    * Any normal distribution\n",
        "𝑋\n",
        "∼\n",
        "𝑁\n",
        "(\n",
        "𝜇\n",
        ",\n",
        "𝜎\n",
        "2\n",
        ")\n",
        "X∼N(μ,σ\n",
        "2\n",
        ") can be standardized to the standard normal using:\n",
        "\n",
        "* This z-transformation makes it possible to use one universal table for calculating probabilities.\n",
        "\n",
        " * This z-transformation makes it possible to use one universal table for calculating probabilities.\n",
        "\n",
        " 2. Used for Calculating Probabilities\n",
        "\n",
        "   * Helps determine probabilities and percentiles for normally distributed variables:\n",
        "\n",
        "\n",
        " 3. Central in Statistical Inference\n",
        "\n",
        "   * Forms the basis for many inferential statistics:\n",
        "\n",
        "   * Z-tests\n",
        "\n",
        "   * Confidence intervals\n",
        "\n",
        "   * P-values\n",
        "\n",
        "   * Central Limit Theorem (CLT) — which says that the sum or average of many independent random variables tends to follow a normal distribution (often standard normal when standardized), even if the original data isn't normal."
      ]
    },
    {
      "cell_type": "markdown",
      "metadata": {
        "id": "FvyJWksfuhpn"
      },
      "source": [
        "Q- 6 : What is the Central Limit Theorem (CLT), and why is it critical in statistics?\n",
        "\n",
        "  ANS-- The Central Limit Theorem (CLT) is one of the most fundamental and powerful results in statistics. It explains why normal distributions appear so frequently in practice, even when the underlying data is not normally distributed.\n",
        "\n",
        "\n",
        "Why is the CLT Critical in Statistics:-\n",
        "\n",
        " 1. Makes Normal-Based Methods Widely Applicable\n",
        "   \n",
        "   * Use confidence intervals\n",
        "\n",
        "   * Perform hypothesis tests\n",
        "\n",
        "   * Apply z-tests and t-tests\n",
        "\n",
        "   * As long as the sample size is large, the sample mean behaves normally.\n",
        "\n",
        " 2. Foundation of Inferential Statistics\n",
        "\n",
        "  * CLT allows us to infer population characteristics from samples.\n",
        "\n",
        "  * Makes sampling distributions predictable and manageable.\n",
        "\n",
        " 3. Works with Many Types of Data\n",
        "   \n",
        "   * Works for skewed, uniform, exponential, or even multimodal distributions — as long as they have finite mean and variance.\n",
        "\n",
        "   * The larger the sample size\n",
        "n, the closer to normal the distribution of the sample mean.\n",
        "\n",
        "\n",
        "\n",
        "\n"
      ]
    },
    {
      "cell_type": "markdown",
      "metadata": {
        "id": "d-5v3Z11wP7k"
      },
      "source": [
        "Q- 7 What is the significance of confidence intervals in statistical analysis?\n",
        "\n",
        "  ANS-- A confidence interval (CI) provides a range of values that is likely to contain a population parameter (like the mean or proportion), based on a sample of data.\n",
        "\n",
        "| Feature        | Confidence Interval                |\n",
        "| -------------- | ---------------------------------- |\n",
        "| Purpose        | Estimate population parameters     |\n",
        "| Based on       | Sample data + probability theory   |\n",
        "| Accounts for   | Sampling error / uncertainty       |\n",
        "| Interpretation | Range likely to contain true value |\n",
        "| Key in         | Inference, testing, and decisions  |\n",
        "\n",
        "\n",
        "    "
      ]
    },
    {
      "cell_type": "markdown",
      "metadata": {
        "id": "vtqeEP8FxJOQ"
      },
      "source": [
        "Q- 8  What is the concept of expected value in a probability distribution?\n",
        "\n",
        "  ANS-- The expected value (also called the mean or expectation) of a random variable represents its long-run average outcome if an experiment is repeated many times.\n",
        "\n",
        "It gives a central value — a kind of weighted average — of all possible outcomes, where the weights are the probabilities of those outcomes.\n",
        "\n",
        " Definition:\n",
        "\n",
        "   For a Discrete Random Variable\n",
        "X:\n",
        "  \n",
        "  E[X]=i∑​xi​⋅P(X=xi​)\n",
        "\n",
        "WHERE:\n",
        "  \n",
        "  * x\n",
        "i\n",
        "\t​\n",
        "\n",
        ": possible values of\n",
        "𝑋\n",
        "\n",
        " * 𝑃\n",
        "(\n",
        "𝑋\n",
        "=\n",
        "𝑥\n",
        "𝑖\n",
        ")\n",
        "P(X=x\n",
        "i\n",
        "\t​\n",
        "\n",
        "): probability of each value"
      ]
    },
    {
      "cell_type": "markdown",
      "metadata": {
        "id": "AjoDCXC7yCNx"
      },
      "source": [
        "Q -9  Write a Python program to generate 1000 random numbers from a normal\n",
        "distribution with mean = 50 and standard deviation = 5. Compute its mean and standard\n",
        "deviation using NumPy, and draw a histogram to visualize the distribution."
      ]
    },
    {
      "cell_type": "code",
      "execution_count": null,
      "metadata": {
        "colab": {
          "base_uri": "https://localhost:8080/",
          "height": 507
        },
        "id": "CaZgIlIu3hx3",
        "outputId": "5d9c96e4-d73b-43fe-9c2e-2bc425d364d4"
      },
      "outputs": [
        {
          "name": "stdout",
          "output_type": "stream",
          "text": [
            "Calculated Mean: 49.91\n",
            "Calculated Standard Deviation: 5.08\n"
          ]
        },
        {
          "data": {
            "image/png": "[encoded data removed]",
            "text/plain": [
              "<Figure size 640x480 with 1 Axes>"
            ]
          },
          "metadata": {},
          "output_type": "display_data"
        }
      ],
      "source": [
        "import numpy as np\n",
        "import matplotlib.pyplot as plt\n",
        "\n",
        "# Step 1: Generate 1000 random numbers from a normal distribution\n",
        "mean = 50\n",
        "std_dev = 5\n",
        "size = 1000\n",
        "data = np.random.normal(mean, std_dev, size)\n",
        "\n",
        "# Step 2: Compute mean and standard deviation using NumPy\n",
        "calculated_mean = np.mean(data)\n",
        "calculated_std = np.std(data)\n",
        "\n",
        "print(f\"Calculated Mean: {calculated_mean:.2f}\")\n",
        "print(f\"Calculated Standard Deviation: {calculated_std:.2f}\")\n",
        "\n",
        "# Step 3: Draw a histogram\n",
        "plt.hist(data, bins=30, edgecolor='black', alpha=0.7)\n",
        "plt.title(\"Histogram of Normally Distributed Random Numbers\")\n",
        "plt.xlabel(\"Value\")\n",
        "plt.ylabel(\"Frequency\")\n",
        "plt.axvline(calculated_mean, color='red', linestyle='dashed', linewidth=2, label=f\"Mean = {calculated_mean:.2f}\")\n",
        "plt.legend()\n",
        "plt.show()\n"
      ]
    },
    {
      "cell_type": "markdown",
      "metadata": {
        "id": "06qAqEdszUvk"
      },
      "source": [
        "Q-10  You are working as a data analyst for a retail company. The company has\n",
        "collected daily sales data for 2 years and wants you to identify the overall sales trend.\n",
        "\n",
        "daily_sales = [220, 245, 210, 265, 230, 250, 260, 275, 240, 255,\n",
        "235, 260, 245, 250, 225, 270, 265, 255, 250, 260]\n",
        "\n",
        "● Explain how you would apply the Central Limit Theorem to estimate the average sales\n",
        "with a 95% confidence interval.\n",
        "\n",
        "● Write the Python code to compute the mean sales and its confidence interval."
      ]
    },
    {
      "cell_type": "code",
      "execution_count": null,
      "metadata": {
        "colab": {
          "base_uri": "https://localhost:8080/"
        },
        "id": "SNi42a7-zwtK",
        "outputId": "bdf0995a-37e1-4858-a251-61b111e54685"
      },
      "outputs": [
        {
          "name": "stdout",
          "output_type": "stream",
          "text": [
            "Sample Mean: 248.25\n",
            "Sample Standard Deviation: 17.27\n",
            "95% Confidence Interval: (240.17, 256.33)\n"
          ]
        }
      ],
      "source": [
        "import numpy as np\n",
        "import scipy.stats as stats\n",
        "\n",
        "# Sample data\n",
        "daily_sales = [220, 245, 210, 265, 230, 250, 260, 275, 240, 255,\n",
        "               235, 260, 245, 250, 225, 270, 265, 255, 250, 260]\n",
        "\n",
        "# Convert to numpy array\n",
        "data = np.array(daily_sales)\n",
        "\n",
        "# Sample statistics\n",
        "sample_mean = np.mean(data)\n",
        "sample_std = np.std(data, ddof=1)  # use ddof=1 for sample standard deviation\n",
        "n = len(data)\n",
        "\n",
        "# Degrees of freedom\n",
        "df = n - 1\n",
        "\n",
        "# t-critical value for 95% CI\n",
        "confidence = 0.95\n",
        "alpha = 1 - confidence\n",
        "t_crit = stats.t.ppf(1 - alpha/2, df)\n",
        "\n",
        "# Margin of error\n",
        "margin_of_error = t_crit * (sample_std / np.sqrt(n))\n",
        "\n",
        "# Confidence interval\n",
        "ci_lower = sample_mean - margin_of_error\n",
        "ci_upper = sample_mean + margin_of_error\n",
        "\n",
        "# Print results\n",
        "print(f\"Sample Mean: {sample_mean:.2f}\")\n",
        "print(f\"Sample Standard Deviation: {sample_std:.2f}\")\n",
        "print(f\"95% Confidence Interval: ({ci_lower:.2f}, {ci_upper:.2f})\")\n"
      ]
    }
  ],
  "metadata": {
    "colab": {
      "provenance": []
    },
    "kernelspec": {
      "display_name": "Python 3",
      "name": "python3"
    },
    "language_info": {
      "name": "python"
    }
  },
  "nbformat": 4,
  "nbformat_minor": 0
}
